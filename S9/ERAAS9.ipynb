{
  "nbformat": 4,
  "nbformat_minor": 0,
  "metadata": {
    "colab": {
      "provenance": [],
      "gpuType": "T4"
    },
    "kernelspec": {
      "name": "python3",
      "display_name": "Python 3"
    },
    "language_info": {
      "name": "python"
    },
    "accelerator": "GPU"
  },
  "cells": [
    {
      "cell_type": "markdown",
      "source": [
        "# Import Libraries"
      ],
      "metadata": {
        "id": "tzxxhzVhSyMz"
      }
    },
    {
      "cell_type": "code",
      "execution_count": 2,
      "metadata": {
        "id": "MG_c_90-SKwh"
      },
      "outputs": [],
      "source": [
        "from __future__ import print_function\n",
        "import torch\n",
        "import torch.nn as nn\n",
        "import torch.nn.functional as F\n",
        "import torch.optim as optim\n",
        "from torchvision import datasets, transforms\n",
        "import albumentations as A\n",
        "from torchvision.transforms import ToTensor\n",
        "from albumentations.pytorch import ToTensorV2\n",
        "import cv2"
      ]
    },
    {
      "cell_type": "code",
      "source": [
        "from models import *\n",
        "from utils import *"
      ],
      "metadata": {
        "id": "qbxVTpmwrslO"
      },
      "execution_count": null,
      "outputs": []
    },
    {
      "cell_type": "markdown",
      "source": [
        "# Data Transformations"
      ],
      "metadata": {
        "id": "HdiY7mPAS5IO"
      }
    },
    {
      "cell_type": "code",
      "source": [
        "!pip install albumentations"
      ],
      "metadata": {
        "colab": {
          "base_uri": "https://localhost:8080/"
        },
        "id": "rptHtrjwT450",
        "outputId": "5e222ac8-ce97-4025-e5df-af316f767cac"
      },
      "execution_count": 3,
      "outputs": [
        {
          "output_type": "stream",
          "name": "stdout",
          "text": [
            "Requirement already satisfied: albumentations in /usr/local/lib/python3.10/dist-packages (1.2.1)\n",
            "Requirement already satisfied: numpy>=1.11.1 in /usr/local/lib/python3.10/dist-packages (from albumentations) (1.22.4)\n",
            "Requirement already satisfied: scipy in /usr/local/lib/python3.10/dist-packages (from albumentations) (1.10.1)\n",
            "Requirement already satisfied: scikit-image>=0.16.1 in /usr/local/lib/python3.10/dist-packages (from albumentations) (0.19.3)\n",
            "Requirement already satisfied: PyYAML in /usr/local/lib/python3.10/dist-packages (from albumentations) (6.0)\n",
            "Requirement already satisfied: qudida>=0.0.4 in /usr/local/lib/python3.10/dist-packages (from albumentations) (0.0.4)\n",
            "Requirement already satisfied: opencv-python-headless>=4.1.1 in /usr/local/lib/python3.10/dist-packages (from albumentations) (4.7.0.72)\n",
            "Requirement already satisfied: scikit-learn>=0.19.1 in /usr/local/lib/python3.10/dist-packages (from qudida>=0.0.4->albumentations) (1.2.2)\n",
            "Requirement already satisfied: typing-extensions in /usr/local/lib/python3.10/dist-packages (from qudida>=0.0.4->albumentations) (4.6.3)\n",
            "Requirement already satisfied: networkx>=2.2 in /usr/local/lib/python3.10/dist-packages (from scikit-image>=0.16.1->albumentations) (3.1)\n",
            "Requirement already satisfied: pillow!=7.1.0,!=7.1.1,!=8.3.0,>=6.1.0 in /usr/local/lib/python3.10/dist-packages (from scikit-image>=0.16.1->albumentations) (8.4.0)\n",
            "Requirement already satisfied: imageio>=2.4.1 in /usr/local/lib/python3.10/dist-packages (from scikit-image>=0.16.1->albumentations) (2.25.1)\n",
            "Requirement already satisfied: tifffile>=2019.7.26 in /usr/local/lib/python3.10/dist-packages (from scikit-image>=0.16.1->albumentations) (2023.4.12)\n",
            "Requirement already satisfied: PyWavelets>=1.1.1 in /usr/local/lib/python3.10/dist-packages (from scikit-image>=0.16.1->albumentations) (1.4.1)\n",
            "Requirement already satisfied: packaging>=20.0 in /usr/local/lib/python3.10/dist-packages (from scikit-image>=0.16.1->albumentations) (23.1)\n",
            "Requirement already satisfied: joblib>=1.1.1 in /usr/local/lib/python3.10/dist-packages (from scikit-learn>=0.19.1->qudida>=0.0.4->albumentations) (1.2.0)\n",
            "Requirement already satisfied: threadpoolctl>=2.0.0 in /usr/local/lib/python3.10/dist-packages (from scikit-learn>=0.19.1->qudida>=0.0.4->albumentations) (3.1.0)\n"
          ]
        }
      ]
    },
    {
      "cell_type": "code",
      "source": [
        "#Transfer the code to utils file\n",
        "\n",
        "# class AlbumentationsDataset(datasets.CIFAR10):\n",
        "#     def __init__(self, root=\"~/data\", train=True, download=True, transform=None):\n",
        "\n",
        "#         super().__init__(root=root, train=train, download=download, transform=transform)\n",
        "\n",
        "#     def __getitem__(self, index):\n",
        "#         image,label = self.data[index],self.targets[index]\n",
        "#         if self.transform is not None:\n",
        "\n",
        "#             augmented = self.transform(image=image)\n",
        "\n",
        "#             image = augmented[\"image\"]\n",
        "\n",
        "#         return image, label\n"
      ],
      "metadata": {
        "id": "GBFzWoQFTDw5"
      },
      "execution_count": 4,
      "outputs": []
    },
    {
      "cell_type": "code",
      "source": [
        "#Transfer the code to utils file\n",
        "\n",
        "# # Train Phase transformations\n",
        "# train_transforms = A.Compose([\n",
        "#         A.HorizontalFlip(),\n",
        "#         A.ShiftScaleRotate(shift_limit=0.05, scale_limit=0.05, rotate_limit=15, p=0.5),\n",
        "#         A.CoarseDropout(max_holes=1, max_height=16, max_width=16, min_holes=1, min_height=16, min_width=16, fill_value=(0.4914, 0.4822, 0.4465), always_apply=False, p=0.5),\n",
        "#         A.Resize(32, 32),\n",
        "#         A.Normalize(mean=(0.4914, 0.4822, 0.4465), std=(0.2023, 0.1994, 0.2010)),\n",
        "#         ToTensorV2(),\n",
        "# ])\n",
        "\n",
        "# # Test Phase transformations\n",
        "# test_transforms = A.Compose([\n",
        "#         A.Normalize(mean=(0.4914, 0.4822, 0.4465), std=(0.2023, 0.1994, 0.2010)),\n",
        "#         ToTensorV2(),\n",
        "# ])"
      ],
      "metadata": {
        "id": "XPpFY5RMS3HA"
      },
      "execution_count": 5,
      "outputs": []
    },
    {
      "cell_type": "markdown",
      "source": [
        "# Dataset and Creating Train/Test Split"
      ],
      "metadata": {
        "id": "Kf4l28iAZaBx"
      }
    },
    {
      "cell_type": "code",
      "source": [
        "# Download and load the CIFAR-10 training dataset\n",
        "train = AlbumentationsDataset(root='./data', train=True,download=True, transform=train_transforms)\n",
        "test = AlbumentationsDataset(root='./data', train=False,download=True, transform=test_transforms)"
      ],
      "metadata": {
        "colab": {
          "base_uri": "https://localhost:8080/"
        },
        "id": "kvc7r5qEYOgx",
        "outputId": "b184a72a-4f2f-4288-c0a0-4692c2f599bd"
      },
      "execution_count": 6,
      "outputs": [
        {
          "output_type": "stream",
          "name": "stdout",
          "text": [
            "Downloading https://www.cs.toronto.edu/~kriz/cifar-10-python.tar.gz to ./data/cifar-10-python.tar.gz\n"
          ]
        },
        {
          "output_type": "stream",
          "name": "stderr",
          "text": [
            "100%|██████████| 170498071/170498071 [00:13<00:00, 12240356.19it/s]\n"
          ]
        },
        {
          "output_type": "stream",
          "name": "stdout",
          "text": [
            "Extracting ./data/cifar-10-python.tar.gz to ./data\n",
            "Files already downloaded and verified\n"
          ]
        }
      ]
    },
    {
      "cell_type": "markdown",
      "source": [
        "# Dataloader Arguments & Test/Train Dataloaders"
      ],
      "metadata": {
        "id": "51hY9oKIZkkW"
      }
    },
    {
      "cell_type": "code",
      "source": [
        "SEED = 1\n",
        "\n",
        "# CUDA?\n",
        "cuda = torch.cuda.is_available()\n",
        "print(\"CUDA Available?\", cuda)\n",
        "\n",
        "# For reproducibility\n",
        "torch.manual_seed(SEED)\n",
        "\n",
        "if cuda:\n",
        "    torch.cuda.manual_seed(SEED)\n",
        "\n",
        "# dataloader arguments - something you'll fetch these from cmdprmt\n",
        "dataloader_args = dict(shuffle=True, batch_size=512, num_workers=0, pin_memory=True) if cuda else dict(shuffle=True, batch_size=64)\n",
        "\n",
        "# train dataloader\n",
        "train_loader = torch.utils.data.DataLoader(train, **dataloader_args)\n",
        "\n",
        "# test dataloader\n",
        "test_loader = torch.utils.data.DataLoader(test, **dataloader_args)"
      ],
      "metadata": {
        "colab": {
          "base_uri": "https://localhost:8080/"
        },
        "id": "lhVPFfrGZdFD",
        "outputId": "c8a214c1-c89c-4410-a8d6-a327439d87e1"
      },
      "execution_count": 7,
      "outputs": [
        {
          "output_type": "stream",
          "name": "stdout",
          "text": [
            "CUDA Available? True\n"
          ]
        }
      ]
    },
    {
      "cell_type": "markdown",
      "source": [
        "# Data Statistics"
      ],
      "metadata": {
        "id": "SANZ9VFaZqyC"
      }
    },
    {
      "cell_type": "code",
      "source": [
        "import matplotlib.pyplot as plt\n",
        "import numpy as np\n",
        "\n",
        "# functions to show an image\n",
        "\n",
        "\n",
        "def imshow(img):\n",
        "    img = img / 2 + 0.5     # unnormalize\n",
        "    npimg = img.numpy()\n",
        "    plt.imshow(np.transpose(npimg, (1, 2, 0)))\n",
        "    plt.show()\n",
        "\n",
        "\n",
        "# get some random training images\n",
        "dataiter = iter(train_loader)\n",
        "images, labels = next(dataiter)\n",
        "classes = ('plane', 'car', 'bird', 'cat',\n",
        "           'deer', 'dog', 'frog', 'horse', 'ship', 'truck')\n",
        "\n",
        "import torchvision\n",
        "# show images\n",
        "imshow(torchvision.utils.make_grid(images[:4]))\n",
        "# print labels\n",
        "print(' '.join(f'{classes[labels[j]]:5s}' for j in range(4)))"
      ],
      "metadata": {
        "colab": {
          "base_uri": "https://localhost:8080/",
          "height": 228
        },
        "id": "191hOxQ-Zmph",
        "outputId": "2d7a3dc5-d862-43c3-dd88-d56ac2952188"
      },
      "execution_count": 8,
      "outputs": [
        {
          "output_type": "stream",
          "name": "stderr",
          "text": [
            "WARNING:matplotlib.image:Clipping input data to the valid range for imshow with RGB data ([0..1] for floats or [0..255] for integers).\n"
          ]
        },
        {
          "output_type": "display_data",
          "data": {
            "text/plain": [
              "<Figure size 640x480 with 1 Axes>"
            ],
            "image/png": "[encoded data removed]"
          },
          "metadata": {}
        },
        {
          "output_type": "stream",
          "name": "stdout",
          "text": [
            "ship  bird  cat   dog  \n"
          ]
        }
      ]
    },
    {
      "cell_type": "markdown",
      "source": [
        "# The model"
      ],
      "metadata": {
        "id": "Eo1Vvy6xecpU"
      }
    },
    {
      "cell_type": "code",
      "source": [
        "#Transfer the code to models file\n",
        "\n",
        "# import torch.nn.functional as F\n",
        "\n",
        "# dropout_value = 0.1\n",
        "\n",
        "# class Net(nn.Module):\n",
        "#     def __init__(self):\n",
        "#         super(Net, self).__init__()\n",
        "\n",
        "#         ## Convolution Block 1\n",
        "#         self.convblock1 = nn.Sequential(\n",
        "#             nn.Conv2d(in_channels=3, out_channels=32, kernel_size=(3, 3), padding=1, bias=False),\n",
        "#             nn.ReLU(),\n",
        "#             nn.BatchNorm2d(32),\n",
        "#             nn.Dropout(dropout_value)\n",
        "#         )  # output_size = 32/3/1\n",
        "\n",
        "#         self.convblock2 = nn.Sequential(\n",
        "#             nn.Conv2d(in_channels=32, out_channels=64, kernel_size=(3, 3), padding=1, bias=False),\n",
        "#             nn.ReLU(),\n",
        "#             nn.BatchNorm2d(64),\n",
        "#             nn.Dropout(dropout_value)\n",
        "#         )  # output_size = 32/5/1\n",
        "\n",
        "#         ## Transition Block 1\n",
        "#         self.convblock3 = nn.Sequential(\n",
        "#             nn.Conv2d(in_channels=64, out_channels=64, kernel_size=(3, 3), padding = 1, stride = 2, bias=False),\n",
        "#             nn.ReLU(),\n",
        "#             nn.BatchNorm2d(64),\n",
        "#             nn.Dropout(dropout_value)\n",
        "#         )  # output_size = 17/7/2\n",
        "\n",
        "\n",
        "#         ## Convolution Block 2\n",
        "#         self.convblock4 = nn.Sequential(\n",
        "#             nn.Conv2d(in_channels=64, out_channels=64, kernel_size=(3, 3), padding=1, bias=False),\n",
        "#             nn.ReLU(),\n",
        "#             nn.BatchNorm2d(64),\n",
        "#             nn.Dropout(dropout_value)\n",
        "#         )  # output_size = 17/11/2\n",
        "\n",
        "#         self.convblock5 = nn.Sequential(\n",
        "#             nn.Conv2d(in_channels=64, out_channels=32, kernel_size=(3, 3), padding=1, bias=False),\n",
        "#             nn.ReLU(),\n",
        "#             nn.BatchNorm2d(32),\n",
        "#             nn.Dropout(dropout_value)\n",
        "#         )  # output_size = 17/15/2\n",
        "\n",
        "#         ## Transition Block 2\n",
        "#         self.convblock6 = nn.Sequential(\n",
        "#             nn.Conv2d(in_channels=32, out_channels=16, kernel_size=(3, 3), padding=1, stride = 2, bias=False),\n",
        "#         ) # output_size = 9/19/4\n",
        "\n",
        "#         ## Convolution Block 3\n",
        "#         self.convblock7 = nn.Sequential(\n",
        "#             nn.Conv2d(in_channels=16, out_channels=32, kernel_size=(3, 3), padding=1, bias=False),\n",
        "#             nn.ReLU(),\n",
        "#             nn.BatchNorm2d(32),\n",
        "#             nn.Dropout(dropout_value)\n",
        "#         )  # output_size = 9/27/4\n",
        "\n",
        "#         self.convblock8 = nn.Sequential(\n",
        "#             nn.Conv2d(in_channels=32, out_channels=64, kernel_size=(3, 3), padding=1, bias=False),\n",
        "#             nn.ReLU(),\n",
        "#             nn.BatchNorm2d(64),\n",
        "#             nn.Dropout(dropout_value)\n",
        "#         )  # output_size = 9/35/4\n",
        "\n",
        "#         self.convblock9 = nn.Sequential(\n",
        "#             nn.Conv2d(in_channels=64, out_channels=64, kernel_size=(3, 3), padding=0, bias=False),\n",
        "#             nn.ReLU(),\n",
        "#             nn.BatchNorm2d(64),\n",
        "#             nn.Dropout(dropout_value)\n",
        "#         )  # output_size = 7/43/4\n",
        "\n",
        "\n",
        "\n",
        "#         self.gap = nn.Sequential(\n",
        "#             nn.AvgPool2d(kernel_size=6)\n",
        "#         )  # output_size = 4/63/4\n",
        "\n",
        "#         self.convblock10 = nn.Sequential(\n",
        "#             nn.Conv2d(in_channels=64, out_channels=10, kernel_size=(1, 1), padding=0, bias=False),\n",
        "#         ) # output_size = 6/63/4\n",
        "\n",
        "#         self.dropout = nn.Dropout(dropout_value)\n",
        "\n",
        "\n",
        "\n",
        "\n",
        "#     def forward(self, x):\n",
        "#         x = self.convblock1(x)\n",
        "#         x = self.convblock2(x)\n",
        "#         x = self.convblock3(x)\n",
        "#         x = self.convblock4(x)\n",
        "#         x = self.convblock5(x)\n",
        "#         x = self.convblock6(x)\n",
        "#         x = self.convblock7(x)\n",
        "#         x = self.convblock8(x)\n",
        "#         x = self.convblock9(x)\n",
        "#         x = self.gap(x)\n",
        "#         x = self.convblock10(x)\n",
        "#         x = x.view(-1, 10)\n",
        "#         return F.log_softmax(x, dim=-1)\n"
      ],
      "metadata": {
        "id": "BUiqb50WZtv0"
      },
      "execution_count": 33,
      "outputs": []
    },
    {
      "cell_type": "markdown",
      "source": [
        "# Model Params"
      ],
      "metadata": {
        "id": "qvsYN-mJNcYy"
      }
    },
    {
      "cell_type": "code",
      "source": [
        "!pip install torchsummary\n",
        "from torchsummary import summary\n",
        "use_cuda = torch.cuda.is_available()\n",
        "device = torch.device(\"cuda\" if use_cuda else \"cpu\")\n",
        "print(device)\n",
        "model = Net().to(device)\n",
        "summary(model, input_size=(3,32, 32))"
      ],
      "metadata": {
        "colab": {
          "base_uri": "https://localhost:8080/"
        },
        "id": "t5lSmFNqMXMr",
        "outputId": "4de095fa-35d2-45a3-f6ed-9babc5c38e23"
      },
      "execution_count": 34,
      "outputs": [
        {
          "output_type": "stream",
          "name": "stdout",
          "text": [
            "Requirement already satisfied: torchsummary in /usr/local/lib/python3.10/dist-packages (1.5.1)\n",
            "cuda\n",
            "----------------------------------------------------------------\n",
            "        Layer (type)               Output Shape         Param #\n",
            "================================================================\n",
            "            Conv2d-1           [-1, 32, 32, 32]             864\n",
            "              ReLU-2           [-1, 32, 32, 32]               0\n",
            "       BatchNorm2d-3           [-1, 32, 32, 32]              64\n",
            "           Dropout-4           [-1, 32, 32, 32]               0\n",
            "            Conv2d-5           [-1, 64, 32, 32]          18,432\n",
            "              ReLU-6           [-1, 64, 32, 32]               0\n",
            "       BatchNorm2d-7           [-1, 64, 32, 32]             128\n",
            "           Dropout-8           [-1, 64, 32, 32]               0\n",
            "            Conv2d-9           [-1, 64, 16, 16]          36,864\n",
            "             ReLU-10           [-1, 64, 16, 16]               0\n",
            "      BatchNorm2d-11           [-1, 64, 16, 16]             128\n",
            "          Dropout-12           [-1, 64, 16, 16]               0\n",
            "           Conv2d-13           [-1, 64, 16, 16]          36,864\n",
            "             ReLU-14           [-1, 64, 16, 16]               0\n",
            "      BatchNorm2d-15           [-1, 64, 16, 16]             128\n",
            "          Dropout-16           [-1, 64, 16, 16]               0\n",
            "           Conv2d-17           [-1, 32, 16, 16]          18,432\n",
            "             ReLU-18           [-1, 32, 16, 16]               0\n",
            "      BatchNorm2d-19           [-1, 32, 16, 16]              64\n",
            "          Dropout-20           [-1, 32, 16, 16]               0\n",
            "           Conv2d-21             [-1, 16, 8, 8]           4,608\n",
            "           Conv2d-22             [-1, 32, 8, 8]           4,608\n",
            "             ReLU-23             [-1, 32, 8, 8]               0\n",
            "      BatchNorm2d-24             [-1, 32, 8, 8]              64\n",
            "          Dropout-25             [-1, 32, 8, 8]               0\n",
            "           Conv2d-26             [-1, 64, 8, 8]          18,432\n",
            "             ReLU-27             [-1, 64, 8, 8]               0\n",
            "      BatchNorm2d-28             [-1, 64, 8, 8]             128\n",
            "          Dropout-29             [-1, 64, 8, 8]               0\n",
            "           Conv2d-30             [-1, 64, 6, 6]          36,864\n",
            "             ReLU-31             [-1, 64, 6, 6]               0\n",
            "      BatchNorm2d-32             [-1, 64, 6, 6]             128\n",
            "          Dropout-33             [-1, 64, 6, 6]               0\n",
            "        AvgPool2d-34             [-1, 64, 1, 1]               0\n",
            "           Conv2d-35             [-1, 10, 1, 1]             640\n",
            "================================================================\n",
            "Total params: 177,440\n",
            "Trainable params: 177,440\n",
            "Non-trainable params: 0\n",
            "----------------------------------------------------------------\n",
            "Input size (MB): 0.01\n",
            "Forward/backward pass size (MB): 4.52\n",
            "Params size (MB): 0.68\n",
            "Estimated Total Size (MB): 5.20\n",
            "----------------------------------------------------------------\n"
          ]
        }
      ]
    },
    {
      "cell_type": "markdown",
      "source": [
        "# Training and Testing"
      ],
      "metadata": {
        "id": "Efbb5IHMN2oi"
      }
    },
    {
      "cell_type": "code",
      "source": [
        "#Transfer the code to utils file\n",
        "\n",
        "\n",
        "\n",
        "\n",
        "# from tqdm import tqdm\n",
        "\n",
        "# train_losses = []\n",
        "# test_losses = []\n",
        "# train_acc = []\n",
        "# test_acc = []\n",
        "\n",
        "# def train(model, device, train_loader, optimizer, epoch):\n",
        "#   model.train()\n",
        "#   pbar = tqdm(train_loader)\n",
        "#   correct = 0\n",
        "#   processed = 0\n",
        "#   for batch_idx, (data, target) in enumerate(pbar):\n",
        "#     # get samples\n",
        "#     data, target = data.to(device), target.to(device)\n",
        "\n",
        "#     # Init\n",
        "#     optimizer.zero_grad()\n",
        "#     # In PyTorch, we need to set the gradients to zero before starting to do backpropragation because PyTorch accumulates the gradients on subsequent backward passes.\n",
        "#     # Because of this, when you start your training loop, ideally you should zero out the gradients so that you do the parameter update correctly.\n",
        "\n",
        "#     # Predict\n",
        "#     y_pred = model(data)\n",
        "\n",
        "#     # Calculate loss\n",
        "#     loss = F.nll_loss(y_pred, target)\n",
        "#     train_losses.append(loss)\n",
        "\n",
        "#     # Backpropagation\n",
        "#     loss.backward()\n",
        "#     optimizer.step()\n",
        "\n",
        "#     # Update pbar-tqdm\n",
        "\n",
        "#     pred = y_pred.argmax(dim=1, keepdim=True)  # get the index of the max log-probability\n",
        "#     correct += pred.eq(target.view_as(pred)).sum().item()\n",
        "#     processed += len(data)\n",
        "\n",
        "#     pbar.set_description(desc= f'Loss={loss.item()} Batch_id={batch_idx} Accuracy={100*correct/processed:0.2f}')\n",
        "#     train_acc.append(100*correct/processed)\n",
        "\n",
        "# def test(model, device, test_loader):\n",
        "#     model.eval()\n",
        "#     test_loss = 0\n",
        "#     correct = 0\n",
        "#     with torch.no_grad():\n",
        "#         for data, target in test_loader:\n",
        "#             data, target = data.to(device), target.to(device)\n",
        "#             output = model(data)\n",
        "#             test_loss += F.nll_loss(output, target, reduction='sum').item()  # sum up batch loss\n",
        "#             pred = output.argmax(dim=1, keepdim=True)  # get the index of the max log-probability\n",
        "#             correct += pred.eq(target.view_as(pred)).sum().item()\n",
        "\n",
        "#     test_loss /= len(test_loader.dataset)\n",
        "#     test_losses.append(test_loss)\n",
        "\n",
        "#     print('\\nTest set: Average loss: {:.4f}, Accuracy: {}/{} ({:.2f}%)\\n'.format(\n",
        "#         test_loss, correct, len(test_loader.dataset),\n",
        "#         100. * correct / len(test_loader.dataset)))\n",
        "\n",
        "#     test_acc.append(100. * correct / len(test_loader.dataset))"
      ],
      "metadata": {
        "id": "L6-KlbhzNeac"
      },
      "execution_count": 35,
      "outputs": []
    },
    {
      "cell_type": "markdown",
      "source": [
        "# Let's Train and test our model"
      ],
      "metadata": {
        "id": "KYE5ynf2N6PD"
      }
    },
    {
      "cell_type": "code",
      "source": [
        "from torch.optim.lr_scheduler import StepLR\n",
        "\n",
        "model =  Net().to(device)\n",
        "optimizer = optim.SGD(model.parameters(), lr=0.01, momentum=0.9)\n",
        "# scheduler = StepLR(optimizer, step_size=6, gamma=0.1)\n",
        "\n",
        "\n",
        "EPOCHS = 51\n",
        "for epoch in range(EPOCHS):\n",
        "    print(\"EPOCH:\", epoch)\n",
        "    train(model, device, train_loader, optimizer, epoch)\n",
        "    # scheduler.step()\n",
        "    test(model, device, test_loader)"
      ],
      "metadata": {
        "colab": {
          "base_uri": "https://localhost:8080/"
        },
        "id": "qNTnByLwN4U4",
        "outputId": "8baed483-6533-4f3d-a62b-842bc94488ff"
      },
      "execution_count": 36,
      "outputs": [
        {
          "output_type": "stream",
          "name": "stdout",
          "text": [
            "EPOCH: 0\n"
          ]
        },
        {
          "output_type": "stream",
          "name": "stderr",
          "text": [
            "Loss=1.5916577577590942 Batch_id=97 Accuracy=32.06: 100%|██████████| 98/98 [00:24<00:00,  3.96it/s]\n"
          ]
        },
        {
          "output_type": "stream",
          "name": "stdout",
          "text": [
            "\n",
            "Test set: Average loss: 1.5153, Accuracy: 4369/10000 (43.69%)\n",
            "\n",
            "EPOCH: 1\n"
          ]
        },
        {
          "output_type": "stream",
          "name": "stderr",
          "text": [
            "Loss=1.4094793796539307 Batch_id=97 Accuracy=45.73: 100%|██████████| 98/98 [00:17<00:00,  5.59it/s]\n"
          ]
        },
        {
          "output_type": "stream",
          "name": "stdout",
          "text": [
            "\n",
            "Test set: Average loss: 1.3394, Accuracy: 5118/10000 (51.18%)\n",
            "\n",
            "EPOCH: 2\n"
          ]
        },
        {
          "output_type": "stream",
          "name": "stderr",
          "text": [
            "Loss=1.3519806861877441 Batch_id=97 Accuracy=51.59: 100%|██████████| 98/98 [00:17<00:00,  5.59it/s]\n"
          ]
        },
        {
          "output_type": "stream",
          "name": "stdout",
          "text": [
            "\n",
            "Test set: Average loss: 1.1883, Accuracy: 5774/10000 (57.74%)\n",
            "\n",
            "EPOCH: 3\n"
          ]
        },
        {
          "output_type": "stream",
          "name": "stderr",
          "text": [
            "Loss=1.2205482721328735 Batch_id=97 Accuracy=55.92: 100%|██████████| 98/98 [00:17<00:00,  5.63it/s]\n"
          ]
        },
        {
          "output_type": "stream",
          "name": "stdout",
          "text": [
            "\n",
            "Test set: Average loss: 1.0986, Accuracy: 6047/10000 (60.47%)\n",
            "\n",
            "EPOCH: 4\n"
          ]
        },
        {
          "output_type": "stream",
          "name": "stderr",
          "text": [
            "Loss=1.052418828010559 Batch_id=97 Accuracy=58.45: 100%|██████████| 98/98 [00:17<00:00,  5.68it/s]\n"
          ]
        },
        {
          "output_type": "stream",
          "name": "stdout",
          "text": [
            "\n",
            "Test set: Average loss: 0.9712, Accuracy: 6506/10000 (65.06%)\n",
            "\n",
            "EPOCH: 5\n"
          ]
        },
        {
          "output_type": "stream",
          "name": "stderr",
          "text": [
            "Loss=1.0305101871490479 Batch_id=97 Accuracy=60.58: 100%|██████████| 98/98 [00:18<00:00,  5.19it/s]\n"
          ]
        },
        {
          "output_type": "stream",
          "name": "stdout",
          "text": [
            "\n",
            "Test set: Average loss: 0.9003, Accuracy: 6775/10000 (67.75%)\n",
            "\n",
            "EPOCH: 6\n"
          ]
        },
        {
          "output_type": "stream",
          "name": "stderr",
          "text": [
            "Loss=0.9918398261070251 Batch_id=97 Accuracy=63.63: 100%|██████████| 98/98 [00:16<00:00,  5.79it/s]\n"
          ]
        },
        {
          "output_type": "stream",
          "name": "stdout",
          "text": [
            "\n",
            "Test set: Average loss: 0.8693, Accuracy: 6885/10000 (68.85%)\n",
            "\n",
            "EPOCH: 7\n"
          ]
        },
        {
          "output_type": "stream",
          "name": "stderr",
          "text": [
            "Loss=0.9603651762008667 Batch_id=97 Accuracy=64.96: 100%|██████████| 98/98 [00:16<00:00,  5.82it/s]\n"
          ]
        },
        {
          "output_type": "stream",
          "name": "stdout",
          "text": [
            "\n",
            "Test set: Average loss: 0.7825, Accuracy: 7214/10000 (72.14%)\n",
            "\n",
            "EPOCH: 8\n"
          ]
        },
        {
          "output_type": "stream",
          "name": "stderr",
          "text": [
            "Loss=0.877993643283844 Batch_id=97 Accuracy=66.01: 100%|██████████| 98/98 [00:18<00:00,  5.44it/s]\n"
          ]
        },
        {
          "output_type": "stream",
          "name": "stdout",
          "text": [
            "\n",
            "Test set: Average loss: 0.8174, Accuracy: 7134/10000 (71.34%)\n",
            "\n",
            "EPOCH: 9\n"
          ]
        },
        {
          "output_type": "stream",
          "name": "stderr",
          "text": [
            "Loss=0.8430257439613342 Batch_id=97 Accuracy=67.65: 100%|██████████| 98/98 [00:16<00:00,  5.86it/s]\n"
          ]
        },
        {
          "output_type": "stream",
          "name": "stdout",
          "text": [
            "\n",
            "Test set: Average loss: 0.7439, Accuracy: 7375/10000 (73.75%)\n",
            "\n",
            "EPOCH: 10\n"
          ]
        },
        {
          "output_type": "stream",
          "name": "stderr",
          "text": [
            "Loss=0.8389859199523926 Batch_id=97 Accuracy=68.41: 100%|██████████| 98/98 [00:16<00:00,  5.77it/s]\n"
          ]
        },
        {
          "output_type": "stream",
          "name": "stdout",
          "text": [
            "\n",
            "Test set: Average loss: 0.7163, Accuracy: 7498/10000 (74.98%)\n",
            "\n",
            "EPOCH: 11\n"
          ]
        },
        {
          "output_type": "stream",
          "name": "stderr",
          "text": [
            "Loss=0.8640856146812439 Batch_id=97 Accuracy=69.64: 100%|██████████| 98/98 [00:16<00:00,  5.93it/s]\n"
          ]
        },
        {
          "output_type": "stream",
          "name": "stdout",
          "text": [
            "\n",
            "Test set: Average loss: 0.7188, Accuracy: 7480/10000 (74.80%)\n",
            "\n",
            "EPOCH: 12\n"
          ]
        },
        {
          "output_type": "stream",
          "name": "stderr",
          "text": [
            "Loss=0.8407358527183533 Batch_id=97 Accuracy=70.74: 100%|██████████| 98/98 [00:16<00:00,  5.82it/s]\n"
          ]
        },
        {
          "output_type": "stream",
          "name": "stdout",
          "text": [
            "\n",
            "Test set: Average loss: 0.6576, Accuracy: 7732/10000 (77.32%)\n",
            "\n",
            "EPOCH: 13\n"
          ]
        },
        {
          "output_type": "stream",
          "name": "stderr",
          "text": [
            "Loss=0.8583756685256958 Batch_id=97 Accuracy=71.26: 100%|██████████| 98/98 [00:16<00:00,  5.86it/s]\n"
          ]
        },
        {
          "output_type": "stream",
          "name": "stdout",
          "text": [
            "\n",
            "Test set: Average loss: 0.6628, Accuracy: 7725/10000 (77.25%)\n",
            "\n",
            "EPOCH: 14\n"
          ]
        },
        {
          "output_type": "stream",
          "name": "stderr",
          "text": [
            "Loss=0.8122312426567078 Batch_id=97 Accuracy=71.82: 100%|██████████| 98/98 [00:16<00:00,  5.99it/s]\n"
          ]
        },
        {
          "output_type": "stream",
          "name": "stdout",
          "text": [
            "\n",
            "Test set: Average loss: 0.6324, Accuracy: 7825/10000 (78.25%)\n",
            "\n",
            "EPOCH: 15\n"
          ]
        },
        {
          "output_type": "stream",
          "name": "stderr",
          "text": [
            "Loss=0.7971852421760559 Batch_id=97 Accuracy=72.16: 100%|██████████| 98/98 [00:17<00:00,  5.71it/s]\n"
          ]
        },
        {
          "output_type": "stream",
          "name": "stdout",
          "text": [
            "\n",
            "Test set: Average loss: 0.6260, Accuracy: 7877/10000 (78.77%)\n",
            "\n",
            "EPOCH: 16\n"
          ]
        },
        {
          "output_type": "stream",
          "name": "stderr",
          "text": [
            "Loss=0.778242290019989 Batch_id=97 Accuracy=73.01: 100%|██████████| 98/98 [00:16<00:00,  5.88it/s]\n"
          ]
        },
        {
          "output_type": "stream",
          "name": "stdout",
          "text": [
            "\n",
            "Test set: Average loss: 0.6168, Accuracy: 7892/10000 (78.92%)\n",
            "\n",
            "EPOCH: 17\n"
          ]
        },
        {
          "output_type": "stream",
          "name": "stderr",
          "text": [
            "Loss=0.7494722604751587 Batch_id=97 Accuracy=73.61: 100%|██████████| 98/98 [00:18<00:00,  5.40it/s]\n"
          ]
        },
        {
          "output_type": "stream",
          "name": "stdout",
          "text": [
            "\n",
            "Test set: Average loss: 0.6057, Accuracy: 7969/10000 (79.69%)\n",
            "\n",
            "EPOCH: 18\n"
          ]
        },
        {
          "output_type": "stream",
          "name": "stderr",
          "text": [
            "Loss=0.6738333702087402 Batch_id=97 Accuracy=74.26: 100%|██████████| 98/98 [00:16<00:00,  5.88it/s]\n"
          ]
        },
        {
          "output_type": "stream",
          "name": "stdout",
          "text": [
            "\n",
            "Test set: Average loss: 0.5699, Accuracy: 8048/10000 (80.48%)\n",
            "\n",
            "EPOCH: 19\n"
          ]
        },
        {
          "output_type": "stream",
          "name": "stderr",
          "text": [
            "Loss=0.6222792863845825 Batch_id=97 Accuracy=74.65: 100%|██████████| 98/98 [00:16<00:00,  5.93it/s]\n"
          ]
        },
        {
          "output_type": "stream",
          "name": "stdout",
          "text": [
            "\n",
            "Test set: Average loss: 0.5534, Accuracy: 8098/10000 (80.98%)\n",
            "\n",
            "EPOCH: 20\n"
          ]
        },
        {
          "output_type": "stream",
          "name": "stderr",
          "text": [
            "Loss=0.7610015869140625 Batch_id=97 Accuracy=75.00: 100%|██████████| 98/98 [00:17<00:00,  5.76it/s]\n"
          ]
        },
        {
          "output_type": "stream",
          "name": "stdout",
          "text": [
            "\n",
            "Test set: Average loss: 0.5423, Accuracy: 8158/10000 (81.58%)\n",
            "\n",
            "EPOCH: 21\n"
          ]
        },
        {
          "output_type": "stream",
          "name": "stderr",
          "text": [
            "Loss=0.7393991947174072 Batch_id=97 Accuracy=75.32: 100%|██████████| 98/98 [00:16<00:00,  5.83it/s]\n"
          ]
        },
        {
          "output_type": "stream",
          "name": "stdout",
          "text": [
            "\n",
            "Test set: Average loss: 0.5424, Accuracy: 8153/10000 (81.53%)\n",
            "\n",
            "EPOCH: 22\n"
          ]
        },
        {
          "output_type": "stream",
          "name": "stderr",
          "text": [
            "Loss=0.7163697481155396 Batch_id=97 Accuracy=75.76: 100%|██████████| 98/98 [00:17<00:00,  5.59it/s]\n"
          ]
        },
        {
          "output_type": "stream",
          "name": "stdout",
          "text": [
            "\n",
            "Test set: Average loss: 0.5422, Accuracy: 8140/10000 (81.40%)\n",
            "\n",
            "EPOCH: 23\n"
          ]
        },
        {
          "output_type": "stream",
          "name": "stderr",
          "text": [
            "Loss=0.7200214266777039 Batch_id=97 Accuracy=76.21: 100%|██████████| 98/98 [00:16<00:00,  5.85it/s]\n"
          ]
        },
        {
          "output_type": "stream",
          "name": "stdout",
          "text": [
            "\n",
            "Test set: Average loss: 0.5199, Accuracy: 8230/10000 (82.30%)\n",
            "\n",
            "EPOCH: 24\n"
          ]
        },
        {
          "output_type": "stream",
          "name": "stderr",
          "text": [
            "Loss=0.6162440180778503 Batch_id=97 Accuracy=76.21: 100%|██████████| 98/98 [00:17<00:00,  5.75it/s]\n"
          ]
        },
        {
          "output_type": "stream",
          "name": "stdout",
          "text": [
            "\n",
            "Test set: Average loss: 0.5311, Accuracy: 8227/10000 (82.27%)\n",
            "\n",
            "EPOCH: 25\n"
          ]
        },
        {
          "output_type": "stream",
          "name": "stderr",
          "text": [
            "Loss=0.6032843589782715 Batch_id=97 Accuracy=76.33: 100%|██████████| 98/98 [00:16<00:00,  5.83it/s]\n"
          ]
        },
        {
          "output_type": "stream",
          "name": "stdout",
          "text": [
            "\n",
            "Test set: Average loss: 0.5242, Accuracy: 8224/10000 (82.24%)\n",
            "\n",
            "EPOCH: 26\n"
          ]
        },
        {
          "output_type": "stream",
          "name": "stderr",
          "text": [
            "Loss=0.7289502620697021 Batch_id=97 Accuracy=76.61: 100%|██████████| 98/98 [00:16<00:00,  5.87it/s]\n"
          ]
        },
        {
          "output_type": "stream",
          "name": "stdout",
          "text": [
            "\n",
            "Test set: Average loss: 0.5116, Accuracy: 8243/10000 (82.43%)\n",
            "\n",
            "EPOCH: 27\n"
          ]
        },
        {
          "output_type": "stream",
          "name": "stderr",
          "text": [
            "Loss=0.5872911810874939 Batch_id=97 Accuracy=76.76: 100%|██████████| 98/98 [00:17<00:00,  5.59it/s]\n"
          ]
        },
        {
          "output_type": "stream",
          "name": "stdout",
          "text": [
            "\n",
            "Test set: Average loss: 0.5000, Accuracy: 8298/10000 (82.98%)\n",
            "\n",
            "EPOCH: 28\n"
          ]
        },
        {
          "output_type": "stream",
          "name": "stderr",
          "text": [
            "Loss=0.6409846544265747 Batch_id=97 Accuracy=77.01: 100%|██████████| 98/98 [00:16<00:00,  5.96it/s]\n"
          ]
        },
        {
          "output_type": "stream",
          "name": "stdout",
          "text": [
            "\n",
            "Test set: Average loss: 0.4904, Accuracy: 8318/10000 (83.18%)\n",
            "\n",
            "EPOCH: 29\n"
          ]
        },
        {
          "output_type": "stream",
          "name": "stderr",
          "text": [
            "Loss=0.6686100959777832 Batch_id=97 Accuracy=77.62: 100%|██████████| 98/98 [00:17<00:00,  5.73it/s]\n"
          ]
        },
        {
          "output_type": "stream",
          "name": "stdout",
          "text": [
            "\n",
            "Test set: Average loss: 0.4999, Accuracy: 8309/10000 (83.09%)\n",
            "\n",
            "EPOCH: 30\n"
          ]
        },
        {
          "output_type": "stream",
          "name": "stderr",
          "text": [
            "Loss=0.6500182151794434 Batch_id=97 Accuracy=77.72: 100%|██████████| 98/98 [00:16<00:00,  5.88it/s]\n"
          ]
        },
        {
          "output_type": "stream",
          "name": "stdout",
          "text": [
            "\n",
            "Test set: Average loss: 0.4675, Accuracy: 8424/10000 (84.24%)\n",
            "\n",
            "EPOCH: 31\n"
          ]
        },
        {
          "output_type": "stream",
          "name": "stderr",
          "text": [
            "Loss=0.6276983618736267 Batch_id=97 Accuracy=78.13: 100%|██████████| 98/98 [00:16<00:00,  5.90it/s]\n"
          ]
        },
        {
          "output_type": "stream",
          "name": "stdout",
          "text": [
            "\n",
            "Test set: Average loss: 0.4780, Accuracy: 8401/10000 (84.01%)\n",
            "\n",
            "EPOCH: 32\n"
          ]
        },
        {
          "output_type": "stream",
          "name": "stderr",
          "text": [
            "Loss=0.597305417060852 Batch_id=97 Accuracy=78.02: 100%|██████████| 98/98 [00:17<00:00,  5.61it/s]\n"
          ]
        },
        {
          "output_type": "stream",
          "name": "stdout",
          "text": [
            "\n",
            "Test set: Average loss: 0.4863, Accuracy: 8356/10000 (83.56%)\n",
            "\n",
            "EPOCH: 33\n"
          ]
        },
        {
          "output_type": "stream",
          "name": "stderr",
          "text": [
            "Loss=0.6909043192863464 Batch_id=97 Accuracy=78.33: 100%|██████████| 98/98 [00:17<00:00,  5.71it/s]\n"
          ]
        },
        {
          "output_type": "stream",
          "name": "stdout",
          "text": [
            "\n",
            "Test set: Average loss: 0.4638, Accuracy: 8407/10000 (84.07%)\n",
            "\n",
            "EPOCH: 34\n"
          ]
        },
        {
          "output_type": "stream",
          "name": "stderr",
          "text": [
            "Loss=0.6396323442459106 Batch_id=97 Accuracy=78.33: 100%|██████████| 98/98 [00:17<00:00,  5.47it/s]\n"
          ]
        },
        {
          "output_type": "stream",
          "name": "stdout",
          "text": [
            "\n",
            "Test set: Average loss: 0.4663, Accuracy: 8420/10000 (84.20%)\n",
            "\n",
            "EPOCH: 35\n"
          ]
        },
        {
          "output_type": "stream",
          "name": "stderr",
          "text": [
            "Loss=0.6067408323287964 Batch_id=97 Accuracy=78.44: 100%|██████████| 98/98 [00:17<00:00,  5.73it/s]\n"
          ]
        },
        {
          "output_type": "stream",
          "name": "stdout",
          "text": [
            "\n",
            "Test set: Average loss: 0.4687, Accuracy: 8442/10000 (84.42%)\n",
            "\n",
            "EPOCH: 36\n"
          ]
        },
        {
          "output_type": "stream",
          "name": "stderr",
          "text": [
            "Loss=0.6060372591018677 Batch_id=97 Accuracy=78.97: 100%|██████████| 98/98 [00:18<00:00,  5.35it/s]\n"
          ]
        },
        {
          "output_type": "stream",
          "name": "stdout",
          "text": [
            "\n",
            "Test set: Average loss: 0.4725, Accuracy: 8439/10000 (84.39%)\n",
            "\n",
            "EPOCH: 37\n"
          ]
        },
        {
          "output_type": "stream",
          "name": "stderr",
          "text": [
            "Loss=0.5475785136222839 Batch_id=97 Accuracy=78.70: 100%|██████████| 98/98 [00:16<00:00,  5.80it/s]\n"
          ]
        },
        {
          "output_type": "stream",
          "name": "stdout",
          "text": [
            "\n",
            "Test set: Average loss: 0.4777, Accuracy: 8396/10000 (83.96%)\n",
            "\n",
            "EPOCH: 38\n"
          ]
        },
        {
          "output_type": "stream",
          "name": "stderr",
          "text": [
            "Loss=0.6206859946250916 Batch_id=97 Accuracy=79.18: 100%|██████████| 98/98 [00:17<00:00,  5.63it/s]\n"
          ]
        },
        {
          "output_type": "stream",
          "name": "stdout",
          "text": [
            "\n",
            "Test set: Average loss: 0.4471, Accuracy: 8479/10000 (84.79%)\n",
            "\n",
            "EPOCH: 39\n"
          ]
        },
        {
          "output_type": "stream",
          "name": "stderr",
          "text": [
            "Loss=0.6280375719070435 Batch_id=97 Accuracy=79.28: 100%|██████████| 98/98 [00:16<00:00,  5.88it/s]\n"
          ]
        },
        {
          "output_type": "stream",
          "name": "stdout",
          "text": [
            "\n",
            "Test set: Average loss: 0.4462, Accuracy: 8496/10000 (84.96%)\n",
            "\n",
            "EPOCH: 40\n"
          ]
        },
        {
          "output_type": "stream",
          "name": "stderr",
          "text": [
            "Loss=0.593809187412262 Batch_id=97 Accuracy=79.20: 100%|██████████| 98/98 [00:16<00:00,  5.94it/s]\n"
          ]
        },
        {
          "output_type": "stream",
          "name": "stdout",
          "text": [
            "\n",
            "Test set: Average loss: 0.4444, Accuracy: 8513/10000 (85.13%)\n",
            "\n",
            "EPOCH: 41\n"
          ]
        },
        {
          "output_type": "stream",
          "name": "stderr",
          "text": [
            "Loss=0.6055455803871155 Batch_id=97 Accuracy=79.56: 100%|██████████| 98/98 [00:16<00:00,  5.86it/s]\n"
          ]
        },
        {
          "output_type": "stream",
          "name": "stdout",
          "text": [
            "\n",
            "Test set: Average loss: 0.4377, Accuracy: 8542/10000 (85.42%)\n",
            "\n",
            "EPOCH: 42\n"
          ]
        },
        {
          "output_type": "stream",
          "name": "stderr",
          "text": [
            "Loss=0.5883526802062988 Batch_id=97 Accuracy=79.69: 100%|██████████| 98/98 [00:16<00:00,  5.93it/s]\n"
          ]
        },
        {
          "output_type": "stream",
          "name": "stdout",
          "text": [
            "\n",
            "Test set: Average loss: 0.4395, Accuracy: 8542/10000 (85.42%)\n",
            "\n",
            "EPOCH: 43\n"
          ]
        },
        {
          "output_type": "stream",
          "name": "stderr",
          "text": [
            "Loss=0.5171542167663574 Batch_id=97 Accuracy=79.61: 100%|██████████| 98/98 [00:17<00:00,  5.61it/s]\n"
          ]
        },
        {
          "output_type": "stream",
          "name": "stdout",
          "text": [
            "\n",
            "Test set: Average loss: 0.4324, Accuracy: 8538/10000 (85.38%)\n",
            "\n",
            "EPOCH: 44\n"
          ]
        },
        {
          "output_type": "stream",
          "name": "stderr",
          "text": [
            "Loss=0.5194998383522034 Batch_id=97 Accuracy=79.75: 100%|██████████| 98/98 [00:17<00:00,  5.76it/s]\n"
          ]
        },
        {
          "output_type": "stream",
          "name": "stdout",
          "text": [
            "\n",
            "Test set: Average loss: 0.4436, Accuracy: 8541/10000 (85.41%)\n",
            "\n",
            "EPOCH: 45\n"
          ]
        },
        {
          "output_type": "stream",
          "name": "stderr",
          "text": [
            "Loss=0.5743461847305298 Batch_id=97 Accuracy=79.97: 100%|██████████| 98/98 [00:17<00:00,  5.75it/s]\n"
          ]
        },
        {
          "output_type": "stream",
          "name": "stdout",
          "text": [
            "\n",
            "Test set: Average loss: 0.4479, Accuracy: 8487/10000 (84.87%)\n",
            "\n",
            "EPOCH: 46\n"
          ]
        },
        {
          "output_type": "stream",
          "name": "stderr",
          "text": [
            "Loss=0.5934813618659973 Batch_id=97 Accuracy=80.21: 100%|██████████| 98/98 [00:17<00:00,  5.55it/s]\n"
          ]
        },
        {
          "output_type": "stream",
          "name": "stdout",
          "text": [
            "\n",
            "Test set: Average loss: 0.4194, Accuracy: 8576/10000 (85.76%)\n",
            "\n",
            "EPOCH: 47\n"
          ]
        },
        {
          "output_type": "stream",
          "name": "stderr",
          "text": [
            "Loss=0.49859583377838135 Batch_id=97 Accuracy=80.28: 100%|██████████| 98/98 [00:16<00:00,  5.81it/s]\n"
          ]
        },
        {
          "output_type": "stream",
          "name": "stdout",
          "text": [
            "\n",
            "Test set: Average loss: 0.4168, Accuracy: 8576/10000 (85.76%)\n",
            "\n",
            "EPOCH: 48\n"
          ]
        },
        {
          "output_type": "stream",
          "name": "stderr",
          "text": [
            "Loss=0.5965073108673096 Batch_id=97 Accuracy=80.38: 100%|██████████| 98/98 [00:17<00:00,  5.62it/s]\n"
          ]
        },
        {
          "output_type": "stream",
          "name": "stdout",
          "text": [
            "\n",
            "Test set: Average loss: 0.4310, Accuracy: 8560/10000 (85.60%)\n",
            "\n",
            "EPOCH: 49\n"
          ]
        },
        {
          "output_type": "stream",
          "name": "stderr",
          "text": [
            "Loss=0.5579358339309692 Batch_id=97 Accuracy=80.39: 100%|██████████| 98/98 [00:16<00:00,  5.94it/s]\n"
          ]
        },
        {
          "output_type": "stream",
          "name": "stdout",
          "text": [
            "\n",
            "Test set: Average loss: 0.4205, Accuracy: 8603/10000 (86.03%)\n",
            "\n",
            "EPOCH: 50\n"
          ]
        },
        {
          "output_type": "stream",
          "name": "stderr",
          "text": [
            "Loss=0.6213216185569763 Batch_id=97 Accuracy=80.44: 100%|██████████| 98/98 [00:17<00:00,  5.67it/s]\n"
          ]
        },
        {
          "output_type": "stream",
          "name": "stdout",
          "text": [
            "\n",
            "Test set: Average loss: 0.4125, Accuracy: 8615/10000 (86.15%)\n",
            "\n"
          ]
        }
      ]
    },
    {
      "cell_type": "code",
      "source": [
        "t = [t_items.item() for t_items in train_losses]\n",
        "%matplotlib inline\n",
        "import matplotlib.pyplot as plt\n",
        "fig, axs = plt.subplots(2,2,figsize=(15,10))\n",
        "axs[0, 0].plot(t)\n",
        "axs[0, 0].set_title(\"Training Loss\")\n",
        "axs[1, 0].plot(train_acc)\n",
        "axs[1, 0].set_title(\"Training Accuracy\")\n",
        "axs[0, 1].plot(test_losses)\n",
        "axs[0, 1].set_title(\"Test Loss\")\n",
        "axs[1, 1].plot(test_acc)\n",
        "axs[1, 1].set_title(\"Test Accuracy\")"
      ],
      "metadata": {
        "colab": {
          "base_uri": "https://localhost:8080/",
          "height": 870
        },
        "id": "1zzzArDVN-LN",
        "outputId": "1b71c54a-c82b-4feb-a388-9d97155affe8"
      },
      "execution_count": 37,
      "outputs": [
        {
          "output_type": "execute_result",
          "data": {
            "text/plain": [
              "Text(0.5, 1.0, 'Test Accuracy')"
            ]
          },
          "metadata": {},
          "execution_count": 37
        },
        {
          "output_type": "display_data",
          "data": {
            "text/plain": [
              "<Figure size 1500x1000 with 4 Axes>"
            ],
            "image/png": "[encoded data removed]"
          },
          "metadata": {}
        }
      ]
    },
    {
      "cell_type": "markdown",
      "source": [
        "Target\n",
        "  1. Make this network:\n",
        "\n",
        "      a) C1C2C3C40 (No MaxPooling, but 3 3x3 layers with stride of 2 instead)\n",
        "\n",
        "  2. Total Params to be less than 200k\n",
        "\n",
        "  3. Use argumentation library and apply:\n",
        "          a) horizontal flip\n",
        "          b) shiftScaleRotate\n",
        "          c) coarseDropout (max_holes = 1, max_height=16px, max_width=1, min_holes = 1, min_height=16px, min_width=16px, fill_value=(mean of your dataset), mask_fill_value = None)\n",
        "  4. Achieve 85% accuracy\n",
        "  5. Total RF must be more than 44\n",
        "  6. One of the layers must use Depthwise Separable Convolution\n",
        "  7. One of the layers must use Dilated Convolution\n",
        "\n",
        "Result\n",
        "  1. Out Best Training accuracy was 80.44 %\n",
        "  2. Out Best Testing accuracy was 86.15 %\n",
        "\n",
        "Analysis\n",
        "  1. We can still see the underfitting\n",
        "  2. We have achieved target of getting RF of more then 44\n",
        "  3. We have achieve our target of accuracy of more then 85\n",
        "  4. We have achieve our target of making NN without Max Pool and with stride of 2\n",
        "  5. We have achieve our target of implemeneting argumenetation library\n",
        "  6. We have failed to implemented dilated layer\n",
        "  7. We have failed to implemented depth wise layer"
      ],
      "metadata": {
        "id": "dOVpCIt5pCB1"
      }
    },
    {
      "cell_type": "code",
      "source": [],
      "metadata": {
        "id": "2ATk9ZpWo963"
      },
      "execution_count": null,
      "outputs": []
    }
  ]
}